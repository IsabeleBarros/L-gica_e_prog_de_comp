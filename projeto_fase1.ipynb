{
  "nbformat": 4,
  "nbformat_minor": 0,
  "metadata": {
    "colab": {
      "provenance": [],
      "authorship_tag": "ABX9TyN202vXpGPj9+UOv9Mjq19n",
      "include_colab_link": true
    },
    "kernelspec": {
      "name": "python3",
      "display_name": "Python 3"
    },
    "language_info": {
      "name": "python"
    }
  },
  "cells": [
    {
      "cell_type": "markdown",
      "metadata": {
        "id": "view-in-github",
        "colab_type": "text"
      },
      "source": [
        "<a href=\"https://colab.research.google.com/github/IsabeleBarros/L-gica_e_prog_de_comp/blob/fase_1/projeto_fase1.ipynb\" target=\"_parent\"><img src=\"https://colab.research.google.com/assets/colab-badge.svg\" alt=\"Open In Colab\"/></a>"
      ]
    },
    {
      "cell_type": "code",
      "execution_count": null,
      "metadata": {
        "colab": {
          "base_uri": "https://localhost:8080/"
        },
        "id": "c4dVqN0f6jsC",
        "outputId": "e75e938f-6c27-4406-bc53-53b504e98f60"
      },
      "outputs": [
        {
          "output_type": "stream",
          "name": "stdout",
          "text": [
            "Informe a temperatura máxima de 1: 34.3\n",
            "Informe a temperatura máxima de 2: 36\n",
            "Informe a temperatura máxima de 3: 31\n",
            "Informe a temperatura máxima de 4: 31.7\n",
            "Informe a temperatura máxima de 5: 31\n",
            "Informe a temperatura máxima de 6: 20\n",
            "Informe a temperatura máxima de 7: 17\n",
            "Informe a temperatura máxima de 8: 42.5\n",
            "Informe a temperatura máxima de 9: 37\n",
            "Informe a temperatura máxima de 10: 32.1\n",
            "Informe a temperatura máxima de 11: 33\n",
            "Informe a temperatura máxima de 12: 23\n",
            "\n",
            "Temperatura média máxima anual: 30.72ºC\n",
            "Quantidade de meses escaldantes: 4\n",
            "Mês mais escaldante do ano: agosto\n",
            "Mês menos quente do ano: julho\n"
          ]
        }
      ],
      "source": [
        "meses_numero = [\"1\", \"2\", \"3\", \"4\", \"5\", \"6\",\n",
        "         \"7\", \"8\", \"9\", \"10\", \"11\", \"12\"]\n",
        "\n",
        "meses_extenso = [\"janeiro\", \"fevereiro\", \"março\", \"abril\", \"maio\", \"junho\",\n",
        "            \"julho\", \"agosto\", \"setembro\", \"outubro\", \"novembro\", \"dezembro\",]\n",
        "\n",
        "temperaturas = []\n",
        "\n",
        "for i in range(12):\n",
        "    while True:\n",
        "        try:\n",
        "            temp = float(input(f\"Informe a temperatura máxima de {meses_numero[i]}: \"))\n",
        "            if -60 <= temp <= 50:\n",
        "                temperaturas.append(temp)\n",
        "                break\n",
        "            else:\n",
        "                print(\"Temperatura inválida! Digite um valor entre -60 e 50.\")\n",
        "        except ValueError:\n",
        "            print(\"Entrada inválida! Digite um número válido.\")\n",
        "\n",
        "media = sum(temperaturas) / 12\n",
        "meses_escaldantes = sum(1 for temp in temperaturas if temp > 33)\n",
        "mes_mais_quente = meses_extenso[temperaturas.index(max(temperaturas))]\n",
        "mes_menos_quente = meses_extenso[temperaturas.index(min(temperaturas))]\n",
        "\n",
        "print(f\"\\nTemperatura média máxima anual: {media:.2f}ºC\")\n",
        "print(f\"Quantidade de meses escaldantes: {meses_escaldantes}\")\n",
        "print(f\"Mês mais escaldante do ano: {mes_mais_quente}\")\n",
        "print(f\"Mês menos quente do ano: {mes_menos_quente}\")"
      ]
    }
  ]
}